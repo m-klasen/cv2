{
 "cells": [
  {
   "cell_type": "code",
   "execution_count": 117,
   "metadata": {},
   "outputs": [],
   "source": [
    "import numpy as np\n",
    "from numpy.linalg import inv\n",
    "\n",
    "##############################################################################################################\n",
    "#Auxiliary functions for Regression\n",
    "##############################################################################################################\n",
    "#returns features with bias X (num_samples*(1+num_features)) and target values Y (num_samples*target_dims)\n",
    "def read_data_reg(filename):\n",
    "    data = np.loadtxt(filename)\n",
    "    Y = data[:,:2]\n",
    "    X = np.concatenate((np.ones((data.shape[0], 1)), data[:,2:]), axis=1)\n",
    "    return Y, X\n",
    "\n",
    "#takes features with bias X (num_samples*(1+num_features)) and target values Y (num_samples*target_dims)\n",
    "#returns regression coefficients w ((1+num_features)*target_dims)\n",
    "def lin_reg(X, Y):\n",
    "    y0, y1 = Y[:,0], Y[:,1]\n",
    "    theta0 = inv(X.T @ X) @ (X.T @ y0)\n",
    "    theta1 = inv(X.T @ X) @ (X.T @ y1)\n",
    "    \n",
    "    #sigma0 = ((y0 - (X @ theta0)).T @ (y0 - X @ theta0)) / len(y0)\n",
    "    #sigma1 = ((y1 - (X @ theta1)).T @ (y1 - X @ theta1)) / len(y1)\n",
    "\n",
    "    w0 = theta0\n",
    "    w1 = theta1\n",
    "    return np.vstack((w0,w1)).T\n",
    "#takes features with bias X (num_samples*(1+num_features)), target Y (num_samples*target_dims) and regression coefficients w ((1+num_features)*target_dims)\n",
    "#returns fraction of mean square error and variance of target prediction separately for each target dimension\n",
    "def calc_err(pred,y)-> float:\n",
    "    return np.square(np.subtract(pred, y)).mean()/np.var(y)\n",
    "\n",
    "def test_lin_reg(X, Y, w):\n",
    "    y0, y1 = Y[:,0], Y[:,1]\n",
    "    w0, w1 = w[:,0], w[:,1]\n",
    "    pred0 = X @ w0\n",
    "    pred1 = X @ w1\n",
    "    #ERROR for each y. Mean-squared(pred-actual)/var(actual)\n",
    "    err = [calc_err(pred0,y0), calc_err(pred1,y1)]\n",
    "    return err\n",
    "#takes features with bias X (num_samples*(1+num_features)), centers of clusters C (num_clusters*(1+num_features)) and std of RBF sigma\n",
    "#returns matrix with scalar product values of features and cluster centers in higher embedding space (num_samples*num_clusters)\n",
    "def RBF_embed(X, C, sigma):\n",
    "    pass\n",
    "############################################################################################################\n",
    "#Linear Regression\n",
    "############################################################################################################\n",
    "\n",
    "def run_lin_reg(X_tr, Y_tr, X_te, Y_te):\n",
    "    w = lin_reg(X_tr,Y_tr)\n",
    "    err = test_lin_reg(X_te,Y_te,w)\n",
    "    print('MSE/Var linear regression')\n",
    "    print(err)"
   ]
  },
  {
   "cell_type": "code",
   "execution_count": 118,
   "metadata": {},
   "outputs": [
    {
     "name": "stdout",
     "output_type": "stream",
     "text": [
      "MSE/Var linear regression\n",
      "[0.1816278507206747, 0.008441176337225863]\n"
     ]
    }
   ],
   "source": [
    "####################################################################################################################################\n",
    "#Exercises\n",
    "####################################################################################################################################\n",
    "Y_tr, X_tr = read_data_reg('data/regression_train.txt')\n",
    "Y_te, X_te = read_data_reg('data/regression_test.txt')\n",
    "\n",
    "run_lin_reg(X_tr, Y_tr, X_te, Y_te)\n",
    "\n",
    "tr_list = list(range(0, int(X_tr.shape[0]/2)))\n",
    "val_list = list(range(int(X_tr.shape[0]/2), X_tr.shape[0]))\n",
    "\n",
    "#run_dual_reg(X_tr, Y_tr, X_te, Y_te, tr_list, val_list)\n",
    "#run_non_lin_reg(X_tr, Y_tr, X_te, Y_te, tr_list, val_list)\n",
    "\n",
    "#step_size = 0.0001\n",
    "#Y_tr, X_tr = read_data_cls('test')\n",
    "#Y_te, X_te = read_data_cls('test')\n",
    "#run_classification(X_tr, Y_tr, X_te, Y_te, step_size)"
   ]
  }
 ],
 "metadata": {
  "kernelspec": {
   "display_name": "Python 3",
   "language": "python",
   "name": "python3"
  },
  "language_info": {
   "codemirror_mode": {
    "name": "ipython",
    "version": 3
   },
   "file_extension": ".py",
   "mimetype": "text/x-python",
   "name": "python",
   "nbconvert_exporter": "python",
   "pygments_lexer": "ipython3",
   "version": "3.6.9"
  }
 },
 "nbformat": 4,
 "nbformat_minor": 4
}
